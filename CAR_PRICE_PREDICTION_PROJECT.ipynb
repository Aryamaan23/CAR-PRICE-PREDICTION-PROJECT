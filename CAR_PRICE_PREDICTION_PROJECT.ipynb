{
  "nbformat": 4,
  "nbformat_minor": 0,
  "metadata": {
    "colab": {
      "name": "CAR PRICE PREDICTION-PROJECT",
      "provenance": [],
      "authorship_tag": "ABX9TyOyfYfX0FDbIAXexJ9ecdsP",
      "include_colab_link": true
    },
    "kernelspec": {
      "name": "python3",
      "display_name": "Python 3"
    }
  },
  "cells": [
    {
      "cell_type": "markdown",
      "metadata": {
        "id": "view-in-github",
        "colab_type": "text"
      },
      "source": [
        "<a href=\"https://colab.research.google.com/github/Aryamaan23/CAR-PRICE-PREDICTION-PROJECT/blob/master/CAR_PRICE_PREDICTION_PROJECT.ipynb\" target=\"_parent\"><img src=\"https://colab.research.google.com/assets/colab-badge.svg\" alt=\"Open In Colab\"/></a>"
      ]
    },
    {
      "cell_type": "code",
      "metadata": {
        "id": "pW93FNEyZP0T",
        "colab_type": "code",
        "colab": {
          "base_uri": "https://localhost:8080/",
          "height": 71
        },
        "outputId": "586d84d0-9a41-40d2-9ce7-5f8f3b6b31bd"
      },
      "source": [
        "import numpy as pd\n",
        "import pandas as pd\n",
        "import matplotlib.pyplot as plt\n",
        "import seaborn as sns"
      ],
      "execution_count": 1,
      "outputs": [
        {
          "output_type": "stream",
          "text": [
            "/usr/local/lib/python3.6/dist-packages/statsmodels/tools/_testing.py:19: FutureWarning: pandas.util.testing is deprecated. Use the functions in the public API at pandas.testing instead.\n",
            "  import pandas.util.testing as tm\n"
          ],
          "name": "stderr"
        }
      ]
    },
    {
      "cell_type": "code",
      "metadata": {
        "id": "y2AWDIWuZvQD",
        "colab_type": "code",
        "colab": {}
      },
      "source": [
        "train=pd.read_csv('cars.csv')\n",
        "test=pd.read_csv('test.csv')"
      ],
      "execution_count": 2,
      "outputs": []
    },
    {
      "cell_type": "code",
      "metadata": {
        "id": "dsBxQmZfamdS",
        "colab_type": "code",
        "colab": {
          "base_uri": "https://localhost:8080/",
          "height": 51
        },
        "outputId": "ec5873fe-17bc-471b-a8fe-3371c525d480"
      },
      "source": [
        "print(\"Shape of train:\",train.shape)\n",
        "print(\"Shape of test\",test.shape)"
      ],
      "execution_count": 3,
      "outputs": [
        {
          "output_type": "stream",
          "text": [
            "Shape of train: (2000, 13)\n",
            "Shape of test (509, 11)\n"
          ],
          "name": "stdout"
        }
      ]
    },
    {
      "cell_type": "code",
      "metadata": {
        "id": "FK1wgA3NayQ0",
        "colab_type": "code",
        "colab": {
          "base_uri": "https://localhost:8080/",
          "height": 359
        },
        "outputId": "7f168d17-5eb8-4bb7-bc51-462f3e9c3c6d"
      },
      "source": [
        "train.head(10)"
      ],
      "execution_count": 4,
      "outputs": [
        {
          "output_type": "execute_result",
          "data": {
            "text/html": [
              "<div>\n",
              "<style scoped>\n",
              "    .dataframe tbody tr th:only-of-type {\n",
              "        vertical-align: middle;\n",
              "    }\n",
              "\n",
              "    .dataframe tbody tr th {\n",
              "        vertical-align: top;\n",
              "    }\n",
              "\n",
              "    .dataframe thead th {\n",
              "        text-align: right;\n",
              "    }\n",
              "</style>\n",
              "<table border=\"1\" class=\"dataframe\">\n",
              "  <thead>\n",
              "    <tr style=\"text-align: right;\">\n",
              "      <th></th>\n",
              "      <th>v.id</th>\n",
              "      <th>on road old</th>\n",
              "      <th>on road now</th>\n",
              "      <th>years</th>\n",
              "      <th>km</th>\n",
              "      <th>rating</th>\n",
              "      <th>condition</th>\n",
              "      <th>economy</th>\n",
              "      <th>top speed</th>\n",
              "      <th>hp</th>\n",
              "      <th>torque</th>\n",
              "      <th>buying price</th>\n",
              "      <th>profit</th>\n",
              "    </tr>\n",
              "  </thead>\n",
              "  <tbody>\n",
              "    <tr>\n",
              "      <th>0</th>\n",
              "      <td>1</td>\n",
              "      <td>781997</td>\n",
              "      <td>881997</td>\n",
              "      <td>10</td>\n",
              "      <td>72310</td>\n",
              "      <td>2</td>\n",
              "      <td>2</td>\n",
              "      <td>16</td>\n",
              "      <td>186</td>\n",
              "      <td>58</td>\n",
              "      <td>194</td>\n",
              "      <td>461803</td>\n",
              "      <td>6</td>\n",
              "    </tr>\n",
              "    <tr>\n",
              "      <th>1</th>\n",
              "      <td>2</td>\n",
              "      <td>553464</td>\n",
              "      <td>643464</td>\n",
              "      <td>9</td>\n",
              "      <td>72189</td>\n",
              "      <td>5</td>\n",
              "      <td>6</td>\n",
              "      <td>6</td>\n",
              "      <td>173</td>\n",
              "      <td>81</td>\n",
              "      <td>189</td>\n",
              "      <td>273747</td>\n",
              "      <td>14</td>\n",
              "    </tr>\n",
              "    <tr>\n",
              "      <th>2</th>\n",
              "      <td>3</td>\n",
              "      <td>1175130</td>\n",
              "      <td>1275130</td>\n",
              "      <td>10</td>\n",
              "      <td>74100</td>\n",
              "      <td>5</td>\n",
              "      <td>4</td>\n",
              "      <td>14</td>\n",
              "      <td>184</td>\n",
              "      <td>104</td>\n",
              "      <td>95</td>\n",
              "      <td>852711</td>\n",
              "      <td>11</td>\n",
              "    </tr>\n",
              "    <tr>\n",
              "      <th>3</th>\n",
              "      <td>4</td>\n",
              "      <td>884824</td>\n",
              "      <td>924824</td>\n",
              "      <td>4</td>\n",
              "      <td>34340</td>\n",
              "      <td>1</td>\n",
              "      <td>7</td>\n",
              "      <td>20</td>\n",
              "      <td>183</td>\n",
              "      <td>125</td>\n",
              "      <td>122</td>\n",
              "      <td>701224</td>\n",
              "      <td>11</td>\n",
              "    </tr>\n",
              "    <tr>\n",
              "      <th>4</th>\n",
              "      <td>5</td>\n",
              "      <td>412866</td>\n",
              "      <td>462866</td>\n",
              "      <td>5</td>\n",
              "      <td>48050</td>\n",
              "      <td>1</td>\n",
              "      <td>1</td>\n",
              "      <td>10</td>\n",
              "      <td>189</td>\n",
              "      <td>89</td>\n",
              "      <td>114</td>\n",
              "      <td>213995</td>\n",
              "      <td>3</td>\n",
              "    </tr>\n",
              "    <tr>\n",
              "      <th>5</th>\n",
              "      <td>6</td>\n",
              "      <td>412092</td>\n",
              "      <td>492092</td>\n",
              "      <td>8</td>\n",
              "      <td>67816</td>\n",
              "      <td>2</td>\n",
              "      <td>7</td>\n",
              "      <td>13</td>\n",
              "      <td>190</td>\n",
              "      <td>60</td>\n",
              "      <td>103</td>\n",
              "      <td>163189</td>\n",
              "      <td>12</td>\n",
              "    </tr>\n",
              "    <tr>\n",
              "      <th>6</th>\n",
              "      <td>7</td>\n",
              "      <td>759465</td>\n",
              "      <td>819465</td>\n",
              "      <td>6</td>\n",
              "      <td>47136</td>\n",
              "      <td>5</td>\n",
              "      <td>10</td>\n",
              "      <td>6</td>\n",
              "      <td>194</td>\n",
              "      <td>63</td>\n",
              "      <td>182</td>\n",
              "      <td>555778</td>\n",
              "      <td>18</td>\n",
              "    </tr>\n",
              "    <tr>\n",
              "      <th>7</th>\n",
              "      <td>8</td>\n",
              "      <td>595638</td>\n",
              "      <td>675638</td>\n",
              "      <td>8</td>\n",
              "      <td>71144</td>\n",
              "      <td>2</td>\n",
              "      <td>5</td>\n",
              "      <td>17</td>\n",
              "      <td>190</td>\n",
              "      <td>136</td>\n",
              "      <td>135</td>\n",
              "      <td>343575</td>\n",
              "      <td>10</td>\n",
              "    </tr>\n",
              "    <tr>\n",
              "      <th>8</th>\n",
              "      <td>9</td>\n",
              "      <td>366274</td>\n",
              "      <td>406274</td>\n",
              "      <td>4</td>\n",
              "      <td>33212</td>\n",
              "      <td>3</td>\n",
              "      <td>10</td>\n",
              "      <td>10</td>\n",
              "      <td>189</td>\n",
              "      <td>53</td>\n",
              "      <td>140</td>\n",
              "      <td>183407</td>\n",
              "      <td>15</td>\n",
              "    </tr>\n",
              "    <tr>\n",
              "      <th>9</th>\n",
              "      <td>10</td>\n",
              "      <td>301434</td>\n",
              "      <td>371434</td>\n",
              "      <td>7</td>\n",
              "      <td>63567</td>\n",
              "      <td>2</td>\n",
              "      <td>9</td>\n",
              "      <td>7</td>\n",
              "      <td>168</td>\n",
              "      <td>85</td>\n",
              "      <td>116</td>\n",
              "      <td>72581</td>\n",
              "      <td>14</td>\n",
              "    </tr>\n",
              "  </tbody>\n",
              "</table>\n",
              "</div>"
            ],
            "text/plain": [
              "   v.id  on road old  on road now  years  ...   hp  torque  buying price  profit \n",
              "0     1       781997       881997     10  ...   58     194        461803        6\n",
              "1     2       553464       643464      9  ...   81     189        273747       14\n",
              "2     3      1175130      1275130     10  ...  104      95        852711       11\n",
              "3     4       884824       924824      4  ...  125     122        701224       11\n",
              "4     5       412866       462866      5  ...   89     114        213995        3\n",
              "5     6       412092       492092      8  ...   60     103        163189       12\n",
              "6     7       759465       819465      6  ...   63     182        555778       18\n",
              "7     8       595638       675638      8  ...  136     135        343575       10\n",
              "8     9       366274       406274      4  ...   53     140        183407       15\n",
              "9    10       301434       371434      7  ...   85     116         72581       14\n",
              "\n",
              "[10 rows x 13 columns]"
            ]
          },
          "metadata": {
            "tags": []
          },
          "execution_count": 4
        }
      ]
    },
    {
      "cell_type": "code",
      "metadata": {
        "id": "PV393Rkda2g6",
        "colab_type": "code",
        "colab": {
          "base_uri": "https://localhost:8080/",
          "height": 359
        },
        "outputId": "19559b22-e7a6-4194-9802-ff61b2942777"
      },
      "source": [
        "test.head(10)"
      ],
      "execution_count": 5,
      "outputs": [
        {
          "output_type": "execute_result",
          "data": {
            "text/html": [
              "<div>\n",
              "<style scoped>\n",
              "    .dataframe tbody tr th:only-of-type {\n",
              "        vertical-align: middle;\n",
              "    }\n",
              "\n",
              "    .dataframe tbody tr th {\n",
              "        vertical-align: top;\n",
              "    }\n",
              "\n",
              "    .dataframe thead th {\n",
              "        text-align: right;\n",
              "    }\n",
              "</style>\n",
              "<table border=\"1\" class=\"dataframe\">\n",
              "  <thead>\n",
              "    <tr style=\"text-align: right;\">\n",
              "      <th></th>\n",
              "      <th>v.id</th>\n",
              "      <th>on road old</th>\n",
              "      <th>on road now</th>\n",
              "      <th>years</th>\n",
              "      <th>km</th>\n",
              "      <th>rating</th>\n",
              "      <th>condition</th>\n",
              "      <th>economy</th>\n",
              "      <th>top speed</th>\n",
              "      <th>hp</th>\n",
              "      <th>torque</th>\n",
              "    </tr>\n",
              "  </thead>\n",
              "  <tbody>\n",
              "    <tr>\n",
              "      <th>0</th>\n",
              "      <td>1</td>\n",
              "      <td>884463</td>\n",
              "      <td>934463</td>\n",
              "      <td>5</td>\n",
              "      <td>37235</td>\n",
              "      <td>1</td>\n",
              "      <td>10</td>\n",
              "      <td>6</td>\n",
              "      <td>152</td>\n",
              "      <td>115</td>\n",
              "      <td>156</td>\n",
              "    </tr>\n",
              "    <tr>\n",
              "      <th>1</th>\n",
              "      <td>2</td>\n",
              "      <td>358375</td>\n",
              "      <td>448375</td>\n",
              "      <td>9</td>\n",
              "      <td>71532</td>\n",
              "      <td>5</td>\n",
              "      <td>3</td>\n",
              "      <td>8</td>\n",
              "      <td>171</td>\n",
              "      <td>70</td>\n",
              "      <td>95</td>\n",
              "    </tr>\n",
              "    <tr>\n",
              "      <th>2</th>\n",
              "      <td>3</td>\n",
              "      <td>925561</td>\n",
              "      <td>955561</td>\n",
              "      <td>3</td>\n",
              "      <td>21276</td>\n",
              "      <td>2</td>\n",
              "      <td>10</td>\n",
              "      <td>11</td>\n",
              "      <td>188</td>\n",
              "      <td>67</td>\n",
              "      <td>118</td>\n",
              "    </tr>\n",
              "    <tr>\n",
              "      <th>3</th>\n",
              "      <td>4</td>\n",
              "      <td>1190067</td>\n",
              "      <td>1210067</td>\n",
              "      <td>2</td>\n",
              "      <td>17766</td>\n",
              "      <td>3</td>\n",
              "      <td>2</td>\n",
              "      <td>14</td>\n",
              "      <td>174</td>\n",
              "      <td>97</td>\n",
              "      <td>155</td>\n",
              "    </tr>\n",
              "    <tr>\n",
              "      <th>4</th>\n",
              "      <td>5</td>\n",
              "      <td>419517</td>\n",
              "      <td>479517</td>\n",
              "      <td>6</td>\n",
              "      <td>49626</td>\n",
              "      <td>5</td>\n",
              "      <td>2</td>\n",
              "      <td>14</td>\n",
              "      <td>192</td>\n",
              "      <td>91</td>\n",
              "      <td>184</td>\n",
              "    </tr>\n",
              "    <tr>\n",
              "      <th>5</th>\n",
              "      <td>6</td>\n",
              "      <td>479277</td>\n",
              "      <td>549277</td>\n",
              "      <td>7</td>\n",
              "      <td>66283</td>\n",
              "      <td>1</td>\n",
              "      <td>9</td>\n",
              "      <td>19</td>\n",
              "      <td>192</td>\n",
              "      <td>54</td>\n",
              "      <td>157</td>\n",
              "    </tr>\n",
              "    <tr>\n",
              "      <th>6</th>\n",
              "      <td>7</td>\n",
              "      <td>820390</td>\n",
              "      <td>830390</td>\n",
              "      <td>1</td>\n",
              "      <td>9206</td>\n",
              "      <td>5</td>\n",
              "      <td>2</td>\n",
              "      <td>6</td>\n",
              "      <td>168</td>\n",
              "      <td>80</td>\n",
              "      <td>90</td>\n",
              "    </tr>\n",
              "    <tr>\n",
              "      <th>7</th>\n",
              "      <td>8</td>\n",
              "      <td>1110878</td>\n",
              "      <td>1190878</td>\n",
              "      <td>8</td>\n",
              "      <td>77912</td>\n",
              "      <td>2</td>\n",
              "      <td>1</td>\n",
              "      <td>15</td>\n",
              "      <td>178</td>\n",
              "      <td>132</td>\n",
              "      <td>146</td>\n",
              "    </tr>\n",
              "    <tr>\n",
              "      <th>8</th>\n",
              "      <td>9</td>\n",
              "      <td>878944</td>\n",
              "      <td>968944</td>\n",
              "      <td>9</td>\n",
              "      <td>81891</td>\n",
              "      <td>1</td>\n",
              "      <td>5</td>\n",
              "      <td>6</td>\n",
              "      <td>190</td>\n",
              "      <td>104</td>\n",
              "      <td>103</td>\n",
              "    </tr>\n",
              "    <tr>\n",
              "      <th>9</th>\n",
              "      <td>10</td>\n",
              "      <td>626970</td>\n",
              "      <td>686970</td>\n",
              "      <td>6</td>\n",
              "      <td>46344</td>\n",
              "      <td>1</td>\n",
              "      <td>7</td>\n",
              "      <td>20</td>\n",
              "      <td>178</td>\n",
              "      <td>137</td>\n",
              "      <td>172</td>\n",
              "    </tr>\n",
              "  </tbody>\n",
              "</table>\n",
              "</div>"
            ],
            "text/plain": [
              "   v.id  on road old  on road now  years  ...  economy  top speed   hp  torque\n",
              "0     1       884463       934463      5  ...        6        152  115     156\n",
              "1     2       358375       448375      9  ...        8        171   70      95\n",
              "2     3       925561       955561      3  ...       11        188   67     118\n",
              "3     4      1190067      1210067      2  ...       14        174   97     155\n",
              "4     5       419517       479517      6  ...       14        192   91     184\n",
              "5     6       479277       549277      7  ...       19        192   54     157\n",
              "6     7       820390       830390      1  ...        6        168   80      90\n",
              "7     8      1110878      1190878      8  ...       15        178  132     146\n",
              "8     9       878944       968944      9  ...        6        190  104     103\n",
              "9    10       626970       686970      6  ...       20        178  137     172\n",
              "\n",
              "[10 rows x 11 columns]"
            ]
          },
          "metadata": {
            "tags": []
          },
          "execution_count": 5
        }
      ]
    },
    {
      "cell_type": "code",
      "metadata": {
        "id": "6kmCeq34bBLU",
        "colab_type": "code",
        "colab": {
          "base_uri": "https://localhost:8080/",
          "height": 34
        },
        "outputId": "8208f99a-962e-4eae-c541-b75725bf350a"
      },
      "source": [
        "#concat train and test\n",
        "df=pd.concat((train,test))\n",
        "temp_df=df\n",
        "print(\"Shape of df:\",df.shape)"
      ],
      "execution_count": 6,
      "outputs": [
        {
          "output_type": "stream",
          "text": [
            "Shape of df: (2509, 13)\n"
          ],
          "name": "stdout"
        }
      ]
    },
    {
      "cell_type": "code",
      "metadata": {
        "id": "tHKanLi-bUmC",
        "colab_type": "code",
        "colab": {}
      },
      "source": [
        "#To show all the columns\n",
        "pd.set_option('display.max_columns',3000)\n",
        "pd.set_option('display.max_rows',85)"
      ],
      "execution_count": 9,
      "outputs": []
    },
    {
      "cell_type": "code",
      "metadata": {
        "id": "ArZkwF3ocJpT",
        "colab_type": "code",
        "colab": {
          "base_uri": "https://localhost:8080/",
          "height": 235
        },
        "outputId": "adfaf08c-7b3f-42a0-ee25-e8993a4bdcb2"
      },
      "source": [
        "df.head(6)"
      ],
      "execution_count": 10,
      "outputs": [
        {
          "output_type": "execute_result",
          "data": {
            "text/html": [
              "<div>\n",
              "<style scoped>\n",
              "    .dataframe tbody tr th:only-of-type {\n",
              "        vertical-align: middle;\n",
              "    }\n",
              "\n",
              "    .dataframe tbody tr th {\n",
              "        vertical-align: top;\n",
              "    }\n",
              "\n",
              "    .dataframe thead th {\n",
              "        text-align: right;\n",
              "    }\n",
              "</style>\n",
              "<table border=\"1\" class=\"dataframe\">\n",
              "  <thead>\n",
              "    <tr style=\"text-align: right;\">\n",
              "      <th></th>\n",
              "      <th>v.id</th>\n",
              "      <th>on road old</th>\n",
              "      <th>on road now</th>\n",
              "      <th>years</th>\n",
              "      <th>km</th>\n",
              "      <th>rating</th>\n",
              "      <th>condition</th>\n",
              "      <th>economy</th>\n",
              "      <th>top speed</th>\n",
              "      <th>hp</th>\n",
              "      <th>torque</th>\n",
              "      <th>buying price</th>\n",
              "      <th>profit</th>\n",
              "    </tr>\n",
              "  </thead>\n",
              "  <tbody>\n",
              "    <tr>\n",
              "      <th>0</th>\n",
              "      <td>1</td>\n",
              "      <td>781997</td>\n",
              "      <td>881997</td>\n",
              "      <td>10</td>\n",
              "      <td>72310</td>\n",
              "      <td>2</td>\n",
              "      <td>2</td>\n",
              "      <td>16</td>\n",
              "      <td>186</td>\n",
              "      <td>58</td>\n",
              "      <td>194</td>\n",
              "      <td>461803.0</td>\n",
              "      <td>6.0</td>\n",
              "    </tr>\n",
              "    <tr>\n",
              "      <th>1</th>\n",
              "      <td>2</td>\n",
              "      <td>553464</td>\n",
              "      <td>643464</td>\n",
              "      <td>9</td>\n",
              "      <td>72189</td>\n",
              "      <td>5</td>\n",
              "      <td>6</td>\n",
              "      <td>6</td>\n",
              "      <td>173</td>\n",
              "      <td>81</td>\n",
              "      <td>189</td>\n",
              "      <td>273747.0</td>\n",
              "      <td>14.0</td>\n",
              "    </tr>\n",
              "    <tr>\n",
              "      <th>2</th>\n",
              "      <td>3</td>\n",
              "      <td>1175130</td>\n",
              "      <td>1275130</td>\n",
              "      <td>10</td>\n",
              "      <td>74100</td>\n",
              "      <td>5</td>\n",
              "      <td>4</td>\n",
              "      <td>14</td>\n",
              "      <td>184</td>\n",
              "      <td>104</td>\n",
              "      <td>95</td>\n",
              "      <td>852711.0</td>\n",
              "      <td>11.0</td>\n",
              "    </tr>\n",
              "    <tr>\n",
              "      <th>3</th>\n",
              "      <td>4</td>\n",
              "      <td>884824</td>\n",
              "      <td>924824</td>\n",
              "      <td>4</td>\n",
              "      <td>34340</td>\n",
              "      <td>1</td>\n",
              "      <td>7</td>\n",
              "      <td>20</td>\n",
              "      <td>183</td>\n",
              "      <td>125</td>\n",
              "      <td>122</td>\n",
              "      <td>701224.0</td>\n",
              "      <td>11.0</td>\n",
              "    </tr>\n",
              "    <tr>\n",
              "      <th>4</th>\n",
              "      <td>5</td>\n",
              "      <td>412866</td>\n",
              "      <td>462866</td>\n",
              "      <td>5</td>\n",
              "      <td>48050</td>\n",
              "      <td>1</td>\n",
              "      <td>1</td>\n",
              "      <td>10</td>\n",
              "      <td>189</td>\n",
              "      <td>89</td>\n",
              "      <td>114</td>\n",
              "      <td>213995.0</td>\n",
              "      <td>3.0</td>\n",
              "    </tr>\n",
              "    <tr>\n",
              "      <th>5</th>\n",
              "      <td>6</td>\n",
              "      <td>412092</td>\n",
              "      <td>492092</td>\n",
              "      <td>8</td>\n",
              "      <td>67816</td>\n",
              "      <td>2</td>\n",
              "      <td>7</td>\n",
              "      <td>13</td>\n",
              "      <td>190</td>\n",
              "      <td>60</td>\n",
              "      <td>103</td>\n",
              "      <td>163189.0</td>\n",
              "      <td>12.0</td>\n",
              "    </tr>\n",
              "  </tbody>\n",
              "</table>\n",
              "</div>"
            ],
            "text/plain": [
              "   v.id  on road old  on road now  years    km   rating  condition  economy  \\\n",
              "0     1       781997       881997     10  72310       2          2       16   \n",
              "1     2       553464       643464      9  72189       5          6        6   \n",
              "2     3      1175130      1275130     10  74100       5          4       14   \n",
              "3     4       884824       924824      4  34340       1          7       20   \n",
              "4     5       412866       462866      5  48050       1          1       10   \n",
              "5     6       412092       492092      8  67816       2          7       13   \n",
              "\n",
              "   top speed   hp  torque  buying price  profit   \n",
              "0        186   58     194      461803.0      6.0  \n",
              "1        173   81     189      273747.0     14.0  \n",
              "2        184  104      95      852711.0     11.0  \n",
              "3        183  125     122      701224.0     11.0  \n",
              "4        189   89     114      213995.0      3.0  \n",
              "5        190   60     103      163189.0     12.0  "
            ]
          },
          "metadata": {
            "tags": []
          },
          "execution_count": 10
        }
      ]
    },
    {
      "cell_type": "code",
      "metadata": {
        "id": "9FOQFEGgcORq",
        "colab_type": "code",
        "colab": {
          "base_uri": "https://localhost:8080/",
          "height": 235
        },
        "outputId": "1da30947-2935-4aad-c73a-03342d9dc263"
      },
      "source": [
        "df.tail(6)"
      ],
      "execution_count": 11,
      "outputs": [
        {
          "output_type": "execute_result",
          "data": {
            "text/html": [
              "<div>\n",
              "<style scoped>\n",
              "    .dataframe tbody tr th:only-of-type {\n",
              "        vertical-align: middle;\n",
              "    }\n",
              "\n",
              "    .dataframe tbody tr th {\n",
              "        vertical-align: top;\n",
              "    }\n",
              "\n",
              "    .dataframe thead th {\n",
              "        text-align: right;\n",
              "    }\n",
              "</style>\n",
              "<table border=\"1\" class=\"dataframe\">\n",
              "  <thead>\n",
              "    <tr style=\"text-align: right;\">\n",
              "      <th></th>\n",
              "      <th>v.id</th>\n",
              "      <th>on road old</th>\n",
              "      <th>on road now</th>\n",
              "      <th>years</th>\n",
              "      <th>km</th>\n",
              "      <th>rating</th>\n",
              "      <th>condition</th>\n",
              "      <th>economy</th>\n",
              "      <th>top speed</th>\n",
              "      <th>hp</th>\n",
              "      <th>torque</th>\n",
              "      <th>buying price</th>\n",
              "      <th>profit</th>\n",
              "    </tr>\n",
              "  </thead>\n",
              "  <tbody>\n",
              "    <tr>\n",
              "      <th>503</th>\n",
              "      <td>504</td>\n",
              "      <td>398998</td>\n",
              "      <td>418998</td>\n",
              "      <td>2</td>\n",
              "      <td>18906</td>\n",
              "      <td>4</td>\n",
              "      <td>3</td>\n",
              "      <td>20</td>\n",
              "      <td>146</td>\n",
              "      <td>64</td>\n",
              "      <td>165</td>\n",
              "      <td>NaN</td>\n",
              "      <td>NaN</td>\n",
              "    </tr>\n",
              "    <tr>\n",
              "      <th>504</th>\n",
              "      <td>505</td>\n",
              "      <td>591475</td>\n",
              "      <td>661475</td>\n",
              "      <td>7</td>\n",
              "      <td>62804</td>\n",
              "      <td>5</td>\n",
              "      <td>7</td>\n",
              "      <td>18</td>\n",
              "      <td>199</td>\n",
              "      <td>68</td>\n",
              "      <td>172</td>\n",
              "      <td>NaN</td>\n",
              "      <td>NaN</td>\n",
              "    </tr>\n",
              "    <tr>\n",
              "      <th>505</th>\n",
              "      <td>506</td>\n",
              "      <td>1164249</td>\n",
              "      <td>1174249</td>\n",
              "      <td>1</td>\n",
              "      <td>8737</td>\n",
              "      <td>5</td>\n",
              "      <td>2</td>\n",
              "      <td>17</td>\n",
              "      <td>168</td>\n",
              "      <td>138</td>\n",
              "      <td>102</td>\n",
              "      <td>NaN</td>\n",
              "      <td>NaN</td>\n",
              "    </tr>\n",
              "    <tr>\n",
              "      <th>506</th>\n",
              "      <td>507</td>\n",
              "      <td>1022454</td>\n",
              "      <td>1102454</td>\n",
              "      <td>8</td>\n",
              "      <td>73784</td>\n",
              "      <td>5</td>\n",
              "      <td>8</td>\n",
              "      <td>15</td>\n",
              "      <td>153</td>\n",
              "      <td>87</td>\n",
              "      <td>120</td>\n",
              "      <td>NaN</td>\n",
              "      <td>NaN</td>\n",
              "    </tr>\n",
              "    <tr>\n",
              "      <th>507</th>\n",
              "      <td>508</td>\n",
              "      <td>624639</td>\n",
              "      <td>644639</td>\n",
              "      <td>2</td>\n",
              "      <td>18920</td>\n",
              "      <td>2</td>\n",
              "      <td>10</td>\n",
              "      <td>7</td>\n",
              "      <td>194</td>\n",
              "      <td>76</td>\n",
              "      <td>176</td>\n",
              "      <td>NaN</td>\n",
              "      <td>NaN</td>\n",
              "    </tr>\n",
              "    <tr>\n",
              "      <th>508</th>\n",
              "      <td>509</td>\n",
              "      <td>741787</td>\n",
              "      <td>751787</td>\n",
              "      <td>1</td>\n",
              "      <td>7999</td>\n",
              "      <td>4</td>\n",
              "      <td>2</td>\n",
              "      <td>8</td>\n",
              "      <td>184</td>\n",
              "      <td>83</td>\n",
              "      <td>165</td>\n",
              "      <td>NaN</td>\n",
              "      <td>NaN</td>\n",
              "    </tr>\n",
              "  </tbody>\n",
              "</table>\n",
              "</div>"
            ],
            "text/plain": [
              "     v.id  on road old  on road now  years    km   rating  condition  economy  \\\n",
              "503   504       398998       418998      2  18906       4          3       20   \n",
              "504   505       591475       661475      7  62804       5          7       18   \n",
              "505   506      1164249      1174249      1   8737       5          2       17   \n",
              "506   507      1022454      1102454      8  73784       5          8       15   \n",
              "507   508       624639       644639      2  18920       2         10        7   \n",
              "508   509       741787       751787      1   7999       4          2        8   \n",
              "\n",
              "     top speed   hp  torque  buying price  profit   \n",
              "503        146   64     165           NaN      NaN  \n",
              "504        199   68     172           NaN      NaN  \n",
              "505        168  138     102           NaN      NaN  \n",
              "506        153   87     120           NaN      NaN  \n",
              "507        194   76     176           NaN      NaN  \n",
              "508        184   83     165           NaN      NaN  "
            ]
          },
          "metadata": {
            "tags": []
          },
          "execution_count": 11
        }
      ]
    },
    {
      "cell_type": "code",
      "metadata": {
        "id": "UJxWsBJ0dBZA",
        "colab_type": "code",
        "colab": {
          "base_uri": "https://localhost:8080/",
          "height": 357
        },
        "outputId": "ba5d89f4-b9f8-47c6-cb2a-164939cb26eb"
      },
      "source": [
        "df.info()"
      ],
      "execution_count": 12,
      "outputs": [
        {
          "output_type": "stream",
          "text": [
            "<class 'pandas.core.frame.DataFrame'>\n",
            "Int64Index: 2509 entries, 0 to 508\n",
            "Data columns (total 13 columns):\n",
            " #   Column        Non-Null Count  Dtype  \n",
            "---  ------        --------------  -----  \n",
            " 0   v.id          2509 non-null   int64  \n",
            " 1   on road old   2509 non-null   int64  \n",
            " 2   on road now   2509 non-null   int64  \n",
            " 3   years         2509 non-null   int64  \n",
            " 4   km            2509 non-null   int64  \n",
            " 5   rating        2509 non-null   int64  \n",
            " 6   condition     2509 non-null   int64  \n",
            " 7   economy       2509 non-null   int64  \n",
            " 8   top speed     2509 non-null   int64  \n",
            " 9   hp            2509 non-null   int64  \n",
            " 10  torque        2509 non-null   int64  \n",
            " 11  buying price  2000 non-null   float64\n",
            " 12  profit        2000 non-null   float64\n",
            "dtypes: float64(2), int64(11)\n",
            "memory usage: 274.4 KB\n"
          ],
          "name": "stdout"
        }
      ]
    },
    {
      "cell_type": "code",
      "metadata": {
        "id": "GqUmW9F_dIRt",
        "colab_type": "code",
        "colab": {
          "base_uri": "https://localhost:8080/",
          "height": 297
        },
        "outputId": "2f851947-0b81-45a4-f8e8-b2d4e6b7b5bf"
      },
      "source": [
        "df.describe()"
      ],
      "execution_count": 13,
      "outputs": [
        {
          "output_type": "execute_result",
          "data": {
            "text/html": [
              "<div>\n",
              "<style scoped>\n",
              "    .dataframe tbody tr th:only-of-type {\n",
              "        vertical-align: middle;\n",
              "    }\n",
              "\n",
              "    .dataframe tbody tr th {\n",
              "        vertical-align: top;\n",
              "    }\n",
              "\n",
              "    .dataframe thead th {\n",
              "        text-align: right;\n",
              "    }\n",
              "</style>\n",
              "<table border=\"1\" class=\"dataframe\">\n",
              "  <thead>\n",
              "    <tr style=\"text-align: right;\">\n",
              "      <th></th>\n",
              "      <th>v.id</th>\n",
              "      <th>on road old</th>\n",
              "      <th>on road now</th>\n",
              "      <th>years</th>\n",
              "      <th>km</th>\n",
              "      <th>rating</th>\n",
              "      <th>condition</th>\n",
              "      <th>economy</th>\n",
              "      <th>top speed</th>\n",
              "      <th>hp</th>\n",
              "      <th>torque</th>\n",
              "      <th>buying price</th>\n",
              "      <th>profit</th>\n",
              "    </tr>\n",
              "  </thead>\n",
              "  <tbody>\n",
              "    <tr>\n",
              "      <th>count</th>\n",
              "      <td>2509.000000</td>\n",
              "      <td>2.509000e+03</td>\n",
              "      <td>2.509000e+03</td>\n",
              "      <td>2509.000000</td>\n",
              "      <td>2509.000000</td>\n",
              "      <td>2509.000000</td>\n",
              "      <td>2509.000000</td>\n",
              "      <td>2509.000000</td>\n",
              "      <td>2509.000000</td>\n",
              "      <td>2509.000000</td>\n",
              "      <td>2509.000000</td>\n",
              "      <td>2.000000e+03</td>\n",
              "      <td>2000.000000</td>\n",
              "    </tr>\n",
              "    <tr>\n",
              "      <th>mean</th>\n",
              "      <td>849.260662</td>\n",
              "      <td>7.428672e+05</td>\n",
              "      <td>7.985188e+05</td>\n",
              "      <td>5.565165</td>\n",
              "      <td>47269.620965</td>\n",
              "      <td>3.004384</td>\n",
              "      <td>5.461140</td>\n",
              "      <td>12.997210</td>\n",
              "      <td>170.082503</td>\n",
              "      <td>95.271821</td>\n",
              "      <td>139.407732</td>\n",
              "      <td>5.267934e+05</td>\n",
              "      <td>10.464500</td>\n",
              "    </tr>\n",
              "    <tr>\n",
              "      <th>std</th>\n",
              "      <td>600.090923</td>\n",
              "      <td>2.600877e+05</td>\n",
              "      <td>2.623591e+05</td>\n",
              "      <td>2.872808</td>\n",
              "      <td>25119.379554</td>\n",
              "      <td>1.433390</td>\n",
              "      <td>2.918446</td>\n",
              "      <td>4.391841</td>\n",
              "      <td>17.460755</td>\n",
              "      <td>26.118035</td>\n",
              "      <td>35.212625</td>\n",
              "      <td>2.637678e+05</td>\n",
              "      <td>3.403606</td>\n",
              "    </tr>\n",
              "    <tr>\n",
              "      <th>min</th>\n",
              "      <td>1.000000</td>\n",
              "      <td>3.007840e+05</td>\n",
              "      <td>3.112900e+05</td>\n",
              "      <td>1.000000</td>\n",
              "      <td>7023.000000</td>\n",
              "      <td>1.000000</td>\n",
              "      <td>1.000000</td>\n",
              "      <td>6.000000</td>\n",
              "      <td>140.000000</td>\n",
              "      <td>50.000000</td>\n",
              "      <td>80.000000</td>\n",
              "      <td>-3.412700e+04</td>\n",
              "      <td>3.000000</td>\n",
              "    </tr>\n",
              "    <tr>\n",
              "      <th>25%</th>\n",
              "      <td>314.000000</td>\n",
              "      <td>5.201290e+05</td>\n",
              "      <td>5.769760e+05</td>\n",
              "      <td>3.000000</td>\n",
              "      <td>25932.000000</td>\n",
              "      <td>2.000000</td>\n",
              "      <td>3.000000</td>\n",
              "      <td>9.000000</td>\n",
              "      <td>155.000000</td>\n",
              "      <td>73.000000</td>\n",
              "      <td>108.000000</td>\n",
              "      <td>3.049825e+05</td>\n",
              "      <td>8.000000</td>\n",
              "    </tr>\n",
              "    <tr>\n",
              "      <th>50%</th>\n",
              "      <td>746.000000</td>\n",
              "      <td>7.388980e+05</td>\n",
              "      <td>7.907960e+05</td>\n",
              "      <td>6.000000</td>\n",
              "      <td>46362.000000</td>\n",
              "      <td>3.000000</td>\n",
              "      <td>5.000000</td>\n",
              "      <td>13.000000</td>\n",
              "      <td>170.000000</td>\n",
              "      <td>95.000000</td>\n",
              "      <td>139.000000</td>\n",
              "      <td>5.286965e+05</td>\n",
              "      <td>10.000000</td>\n",
              "    </tr>\n",
              "    <tr>\n",
              "      <th>75%</th>\n",
              "      <td>1373.000000</td>\n",
              "      <td>9.675020e+05</td>\n",
              "      <td>1.027654e+06</td>\n",
              "      <td>8.000000</td>\n",
              "      <td>68058.000000</td>\n",
              "      <td>4.000000</td>\n",
              "      <td>8.000000</td>\n",
              "      <td>17.000000</td>\n",
              "      <td>185.000000</td>\n",
              "      <td>118.000000</td>\n",
              "      <td>169.000000</td>\n",
              "      <td>7.507372e+05</td>\n",
              "      <td>13.000000</td>\n",
              "    </tr>\n",
              "    <tr>\n",
              "      <th>max</th>\n",
              "      <td>2000.000000</td>\n",
              "      <td>1.199860e+06</td>\n",
              "      <td>1.299078e+06</td>\n",
              "      <td>10.000000</td>\n",
              "      <td>99970.000000</td>\n",
              "      <td>5.000000</td>\n",
              "      <td>10.000000</td>\n",
              "      <td>20.000000</td>\n",
              "      <td>200.000000</td>\n",
              "      <td>140.000000</td>\n",
              "      <td>200.000000</td>\n",
              "      <td>1.032874e+06</td>\n",
              "      <td>18.000000</td>\n",
              "    </tr>\n",
              "  </tbody>\n",
              "</table>\n",
              "</div>"
            ],
            "text/plain": [
              "              v.id   on road old   on road now        years           km   \\\n",
              "count  2509.000000  2.509000e+03  2.509000e+03  2509.000000   2509.000000   \n",
              "mean    849.260662  7.428672e+05  7.985188e+05     5.565165  47269.620965   \n",
              "std     600.090923  2.600877e+05  2.623591e+05     2.872808  25119.379554   \n",
              "min       1.000000  3.007840e+05  3.112900e+05     1.000000   7023.000000   \n",
              "25%     314.000000  5.201290e+05  5.769760e+05     3.000000  25932.000000   \n",
              "50%     746.000000  7.388980e+05  7.907960e+05     6.000000  46362.000000   \n",
              "75%    1373.000000  9.675020e+05  1.027654e+06     8.000000  68058.000000   \n",
              "max    2000.000000  1.199860e+06  1.299078e+06    10.000000  99970.000000   \n",
              "\n",
              "            rating    condition      economy    top speed           hp  \\\n",
              "count  2509.000000  2509.000000  2509.000000  2509.000000  2509.000000   \n",
              "mean      3.004384     5.461140    12.997210   170.082503    95.271821   \n",
              "std       1.433390     2.918446     4.391841    17.460755    26.118035   \n",
              "min       1.000000     1.000000     6.000000   140.000000    50.000000   \n",
              "25%       2.000000     3.000000     9.000000   155.000000    73.000000   \n",
              "50%       3.000000     5.000000    13.000000   170.000000    95.000000   \n",
              "75%       4.000000     8.000000    17.000000   185.000000   118.000000   \n",
              "max       5.000000    10.000000    20.000000   200.000000   140.000000   \n",
              "\n",
              "            torque  buying price      profit   \n",
              "count  2509.000000  2.000000e+03  2000.000000  \n",
              "mean    139.407732  5.267934e+05    10.464500  \n",
              "std      35.212625  2.637678e+05     3.403606  \n",
              "min      80.000000 -3.412700e+04     3.000000  \n",
              "25%     108.000000  3.049825e+05     8.000000  \n",
              "50%     139.000000  5.286965e+05    10.000000  \n",
              "75%     169.000000  7.507372e+05    13.000000  \n",
              "max     200.000000  1.032874e+06    18.000000  "
            ]
          },
          "metadata": {
            "tags": []
          },
          "execution_count": 13
        }
      ]
    },
    {
      "cell_type": "code",
      "metadata": {
        "id": "-9LrpyAadOd9",
        "colab_type": "code",
        "colab": {
          "base_uri": "https://localhost:8080/",
          "height": 68
        },
        "outputId": "ceceaac5-09bb-4b66-d171-e303d092a367"
      },
      "source": [
        "df.select_dtypes(include=['int']).columns"
      ],
      "execution_count": 15,
      "outputs": [
        {
          "output_type": "execute_result",
          "data": {
            "text/plain": [
              "Index(['v.id', 'on road old', 'on road now', 'years', 'km ', 'rating',\n",
              "       'condition', 'economy', 'top speed', 'hp', 'torque'],\n",
              "      dtype='object')"
            ]
          },
          "metadata": {
            "tags": []
          },
          "execution_count": 15
        }
      ]
    },
    {
      "cell_type": "code",
      "metadata": {
        "id": "-pJufBrFdbnE",
        "colab_type": "code",
        "colab": {}
      },
      "source": [
        "df=df.set_index(\"v.id\")\n"
      ],
      "execution_count": 16,
      "outputs": []
    },
    {
      "cell_type": "code",
      "metadata": {
        "id": "J8lc0Tafdw1H",
        "colab_type": "code",
        "colab": {
          "base_uri": "https://localhost:8080/",
          "height": 266
        },
        "outputId": "ddd6b680-8bee-498c-f2c9-4e2ab0371b2c"
      },
      "source": [
        "df.head(6)"
      ],
      "execution_count": 17,
      "outputs": [
        {
          "output_type": "execute_result",
          "data": {
            "text/html": [
              "<div>\n",
              "<style scoped>\n",
              "    .dataframe tbody tr th:only-of-type {\n",
              "        vertical-align: middle;\n",
              "    }\n",
              "\n",
              "    .dataframe tbody tr th {\n",
              "        vertical-align: top;\n",
              "    }\n",
              "\n",
              "    .dataframe thead th {\n",
              "        text-align: right;\n",
              "    }\n",
              "</style>\n",
              "<table border=\"1\" class=\"dataframe\">\n",
              "  <thead>\n",
              "    <tr style=\"text-align: right;\">\n",
              "      <th></th>\n",
              "      <th>on road old</th>\n",
              "      <th>on road now</th>\n",
              "      <th>years</th>\n",
              "      <th>km</th>\n",
              "      <th>rating</th>\n",
              "      <th>condition</th>\n",
              "      <th>economy</th>\n",
              "      <th>top speed</th>\n",
              "      <th>hp</th>\n",
              "      <th>torque</th>\n",
              "      <th>buying price</th>\n",
              "      <th>profit</th>\n",
              "    </tr>\n",
              "    <tr>\n",
              "      <th>v.id</th>\n",
              "      <th></th>\n",
              "      <th></th>\n",
              "      <th></th>\n",
              "      <th></th>\n",
              "      <th></th>\n",
              "      <th></th>\n",
              "      <th></th>\n",
              "      <th></th>\n",
              "      <th></th>\n",
              "      <th></th>\n",
              "      <th></th>\n",
              "      <th></th>\n",
              "    </tr>\n",
              "  </thead>\n",
              "  <tbody>\n",
              "    <tr>\n",
              "      <th>1</th>\n",
              "      <td>781997</td>\n",
              "      <td>881997</td>\n",
              "      <td>10</td>\n",
              "      <td>72310</td>\n",
              "      <td>2</td>\n",
              "      <td>2</td>\n",
              "      <td>16</td>\n",
              "      <td>186</td>\n",
              "      <td>58</td>\n",
              "      <td>194</td>\n",
              "      <td>461803.0</td>\n",
              "      <td>6.0</td>\n",
              "    </tr>\n",
              "    <tr>\n",
              "      <th>2</th>\n",
              "      <td>553464</td>\n",
              "      <td>643464</td>\n",
              "      <td>9</td>\n",
              "      <td>72189</td>\n",
              "      <td>5</td>\n",
              "      <td>6</td>\n",
              "      <td>6</td>\n",
              "      <td>173</td>\n",
              "      <td>81</td>\n",
              "      <td>189</td>\n",
              "      <td>273747.0</td>\n",
              "      <td>14.0</td>\n",
              "    </tr>\n",
              "    <tr>\n",
              "      <th>3</th>\n",
              "      <td>1175130</td>\n",
              "      <td>1275130</td>\n",
              "      <td>10</td>\n",
              "      <td>74100</td>\n",
              "      <td>5</td>\n",
              "      <td>4</td>\n",
              "      <td>14</td>\n",
              "      <td>184</td>\n",
              "      <td>104</td>\n",
              "      <td>95</td>\n",
              "      <td>852711.0</td>\n",
              "      <td>11.0</td>\n",
              "    </tr>\n",
              "    <tr>\n",
              "      <th>4</th>\n",
              "      <td>884824</td>\n",
              "      <td>924824</td>\n",
              "      <td>4</td>\n",
              "      <td>34340</td>\n",
              "      <td>1</td>\n",
              "      <td>7</td>\n",
              "      <td>20</td>\n",
              "      <td>183</td>\n",
              "      <td>125</td>\n",
              "      <td>122</td>\n",
              "      <td>701224.0</td>\n",
              "      <td>11.0</td>\n",
              "    </tr>\n",
              "    <tr>\n",
              "      <th>5</th>\n",
              "      <td>412866</td>\n",
              "      <td>462866</td>\n",
              "      <td>5</td>\n",
              "      <td>48050</td>\n",
              "      <td>1</td>\n",
              "      <td>1</td>\n",
              "      <td>10</td>\n",
              "      <td>189</td>\n",
              "      <td>89</td>\n",
              "      <td>114</td>\n",
              "      <td>213995.0</td>\n",
              "      <td>3.0</td>\n",
              "    </tr>\n",
              "    <tr>\n",
              "      <th>6</th>\n",
              "      <td>412092</td>\n",
              "      <td>492092</td>\n",
              "      <td>8</td>\n",
              "      <td>67816</td>\n",
              "      <td>2</td>\n",
              "      <td>7</td>\n",
              "      <td>13</td>\n",
              "      <td>190</td>\n",
              "      <td>60</td>\n",
              "      <td>103</td>\n",
              "      <td>163189.0</td>\n",
              "      <td>12.0</td>\n",
              "    </tr>\n",
              "  </tbody>\n",
              "</table>\n",
              "</div>"
            ],
            "text/plain": [
              "      on road old  on road now  years    km   rating  condition  economy  \\\n",
              "v.id                                                                       \n",
              "1          781997       881997     10  72310       2          2       16   \n",
              "2          553464       643464      9  72189       5          6        6   \n",
              "3         1175130      1275130     10  74100       5          4       14   \n",
              "4          884824       924824      4  34340       1          7       20   \n",
              "5          412866       462866      5  48050       1          1       10   \n",
              "6          412092       492092      8  67816       2          7       13   \n",
              "\n",
              "      top speed   hp  torque  buying price  profit   \n",
              "v.id                                                 \n",
              "1           186   58     194      461803.0      6.0  \n",
              "2           173   81     189      273747.0     14.0  \n",
              "3           184  104      95      852711.0     11.0  \n",
              "4           183  125     122      701224.0     11.0  \n",
              "5           189   89     114      213995.0      3.0  \n",
              "6           190   60     103      163189.0     12.0  "
            ]
          },
          "metadata": {
            "tags": []
          },
          "execution_count": 17
        }
      ]
    },
    {
      "cell_type": "code",
      "metadata": {
        "id": "1LcsSYQkdz0i",
        "colab_type": "code",
        "colab": {
          "base_uri": "https://localhost:8080/",
          "height": 502
        },
        "outputId": "1acc8252-589f-4f94-f6e1-2a539dd6efca"
      },
      "source": [
        "plt.figure(figsize=(15,7))\n",
        "sns.heatmap(df.isnull())"
      ],
      "execution_count": 19,
      "outputs": [
        {
          "output_type": "execute_result",
          "data": {
            "text/plain": [
              "<matplotlib.axes._subplots.AxesSubplot at 0x7fd95aab27b8>"
            ]
          },
          "metadata": {
            "tags": []
          },
          "execution_count": 19
        },
        {
          "output_type": "display_data",
          "data": {
            "image/png": "[encoded data removed]",
            "text/plain": [
              "<Figure size 1080x504 with 2 Axes>"
            ]
          },
          "metadata": {
            "tags": [],
            "needs_background": "light"
          }
        }
      ]
    },
    {
      "cell_type": "code",
      "metadata": {
        "id": "FW1J7OS4eOar",
        "colab_type": "code",
        "colab": {
          "base_uri": "https://localhost:8080/",
          "height": 238
        },
        "outputId": "cb72d8f4-5d81-4ebd-a790-69752a14c0e3"
      },
      "source": [
        "null_percent=df.isnull().sum()/df.shape[0]*100\n",
        "null_percent"
      ],
      "execution_count": 21,
      "outputs": [
        {
          "output_type": "execute_result",
          "data": {
            "text/plain": [
              "on road old      0.000000\n",
              "on road now      0.000000\n",
              "years            0.000000\n",
              "km               0.000000\n",
              "rating           0.000000\n",
              "condition        0.000000\n",
              "economy          0.000000\n",
              "top speed        0.000000\n",
              "hp               0.000000\n",
              "torque           0.000000\n",
              "buying price    20.286967\n",
              "profit          20.286967\n",
              "dtype: float64"
            ]
          },
          "metadata": {
            "tags": []
          },
          "execution_count": 21
        }
      ]
    },
    {
      "cell_type": "code",
      "metadata": {
        "id": "T7nSib_Xe1jZ",
        "colab_type": "code",
        "colab": {}
      },
      "source": [
        "col_for_drop=null_percent[null_percent>20].keys()"
      ],
      "execution_count": 22,
      "outputs": []
    },
    {
      "cell_type": "code",
      "metadata": {
        "id": "3VaXJCZpfFh3",
        "colab_type": "code",
        "colab": {
          "base_uri": "https://localhost:8080/",
          "height": 34
        },
        "outputId": "9fb1782b-ccc9-4ed3-b6fd-5c8ff173ce45"
      },
      "source": [
        "df=df.drop(col_for_drop,\"columns\")\n",
        "df.shape"
      ],
      "execution_count": 23,
      "outputs": [
        {
          "output_type": "execute_result",
          "data": {
            "text/plain": [
              "(2509, 10)"
            ]
          },
          "metadata": {
            "tags": []
          },
          "execution_count": 23
        }
      ]
    },
    {
      "cell_type": "code",
      "metadata": {
        "id": "0gqaehHAfcaZ",
        "colab_type": "code",
        "colab": {
          "base_uri": "https://localhost:8080/",
          "height": 187
        },
        "outputId": "b27bcfa0-47e4-4d6f-a4ea-1522a8083c08"
      },
      "source": [
        "for i in df.columns:\n",
        "  print(i + \"\\t\" + str(len(df[i].unique())))"
      ],
      "execution_count": 24,
      "outputs": [
        {
          "output_type": "stream",
          "text": [
            "on road old\t2505\n",
            "on road now\t2507\n",
            "years\t10\n",
            "km \t2400\n",
            "rating\t5\n",
            "condition\t10\n",
            "economy\t15\n",
            "top speed\t61\n",
            "hp\t91\n",
            "torque\t121\n"
          ],
          "name": "stdout"
        }
      ]
    },
    {
      "cell_type": "code",
      "metadata": {
        "id": "aOcFpl9Rfxax",
        "colab_type": "code",
        "colab": {
          "base_uri": "https://localhost:8080/",
          "height": 765
        },
        "outputId": "56559174-8f18-4d9b-f121-78bb7c66a1fd"
      },
      "source": [
        "for i in df.columns:\n",
        "  print(\"Unique value of:>>> {} ({})\\n{}\\n\".format(i,len(df[i].unique()),df[i].unique()))"
      ],
      "execution_count": 25,
      "outputs": [
        {
          "output_type": "stream",
          "text": [
            "Unique value of:>>> on road old (2505)\n",
            "[ 781997  553464 1175130 ... 1022454  624639  741787]\n",
            "\n",
            "Unique value of:>>> on road now (2507)\n",
            "[ 881997  643464 1275130 ... 1102454  644639  751787]\n",
            "\n",
            "Unique value of:>>> years (10)\n",
            "[10  9  4  5  8  6  7  1  3  2]\n",
            "\n",
            "Unique value of:>>> km  (2400)\n",
            "[72310 72189 74100 ... 73784 18920  7999]\n",
            "\n",
            "Unique value of:>>> rating (5)\n",
            "[2 5 1 3 4]\n",
            "\n",
            "Unique value of:>>> condition (10)\n",
            "[ 2  6  4  7  1 10  5  9  3  8]\n",
            "\n",
            "Unique value of:>>> economy (15)\n",
            "[16  6 14 20 10 13 17  7  9 18 15  8 11 12 19]\n",
            "\n",
            "Unique value of:>>> top speed (61)\n",
            "[186 173 184 183 189 190 194 168 171 149 180 163 162 147 165 170 154 157\n",
            " 199 153 185 182 176 160 195 141 142 156 169 145 166 158 150 172 167 164\n",
            " 177 146 140 155 188 161 187 175 197 200 178 148 152 144 196 198 174 179\n",
            " 159 143 181 193 151 192 191]\n",
            "\n",
            "Unique value of:>>> hp (91)\n",
            "[ 58  81 104 125  89  60  63 136  53  85  65 100  87 140  94 114  97  64\n",
            "  62 107 122  79 138 113 133 111 105  90  71  80  70 135  93  56 115 129\n",
            " 132  99  88  69  74 102  67 103  92 131  54  98 116 139 108  72 130  83\n",
            "  52 110  73  84  75 127 112  50 119  96 117 120 128  55  86  76  59 137\n",
            "  61 101  51 126  66  57 109 123  68  91 134 118 124  82 106 121  77  95\n",
            "  78]\n",
            "\n",
            "Unique value of:>>> torque (121)\n",
            "[194 189  95 122 114 103 182 135 140 116 165 199 100  89  86 115 157  82\n",
            " 139 130 198 170 177 156 148 147 132 108 149 104 127 195 119 112 110 174\n",
            " 152 120 117  80 134 200 126 138 196 106  90  81 197  84  98 155 163 172\n",
            " 161 193 160 159  87 187 137 146 113 102  83 179 169 167 178 107 123 133\n",
            " 158 136  88 184 151 131 164  93 185 142 111 175  91 180 186 173  96 124\n",
            " 109 141 118 168 128 162 121 171 129 105 181 176 183 145 101  92 166 125\n",
            "  94 154  99 144  97  85 190 150 191 188 192 143 153]\n",
            "\n"
          ],
          "name": "stdout"
        }
      ]
    },
    {
      "cell_type": "code",
      "metadata": {
        "id": "Vr9SwIB2goWN",
        "colab_type": "code",
        "colab": {
          "base_uri": "https://localhost:8080/",
          "height": 170
        },
        "outputId": "a48ce4fc-839c-408c-c3a4-52851748faeb"
      },
      "source": [
        "train['buying price'].describe()"
      ],
      "execution_count": 26,
      "outputs": [
        {
          "output_type": "execute_result",
          "data": {
            "text/plain": [
              "count    2.000000e+03\n",
              "mean     5.267934e+05\n",
              "std      2.637678e+05\n",
              "min     -3.412700e+04\n",
              "25%      3.049825e+05\n",
              "50%      5.286965e+05\n",
              "75%      7.507372e+05\n",
              "max      1.032874e+06\n",
              "Name: buying price, dtype: float64"
            ]
          },
          "metadata": {
            "tags": []
          },
          "execution_count": 26
        }
      ]
    },
    {
      "cell_type": "code",
      "metadata": {
        "id": "88432Me6g3du",
        "colab_type": "code",
        "colab": {
          "base_uri": "https://localhost:8080/",
          "height": 525
        },
        "outputId": "f339d4bb-3201-41d0-dbdc-df5ce58951bf"
      },
      "source": [
        "plt.figure(figsize=(10,8))\n",
        "bar=sns.distplot(train['buying price'])\n",
        "bar.legend(['Skewness: {:.2f}'.format(train['buying price'].skew())])"
      ],
      "execution_count": 27,
      "outputs": [
        {
          "output_type": "execute_result",
          "data": {
            "text/plain": [
              "<matplotlib.legend.Legend at 0x7fd95e5e3c18>"
            ]
          },
          "metadata": {
            "tags": []
          },
          "execution_count": 27
        },
        {
          "output_type": "display_data",
          "data": {
            "image/png": "[encoded data removed]",
            "text/plain": [
              "<Figure size 720x576 with 1 Axes>"
            ]
          },
          "metadata": {
            "tags": [],
            "needs_background": "light"
          }
        }
      ]
    },
    {
      "cell_type": "code",
      "metadata": {
        "id": "A6gxe5QVhgHt",
        "colab_type": "code",
        "colab": {
          "base_uri": "https://localhost:8080/",
          "height": 610
        },
        "outputId": "b6be331e-e175-4814-b468-4c71811f1278"
      },
      "source": [
        "plt.figure(figsize=(9,9))\n",
        "ax=sns.heatmap(train.corr(),cmap=\"coolwarm\",annot=True,linewidth=2)\n",
        "bottom,top=ax.get_ylim()\n",
        "ax.set_ylim(bottom+0.5,top-0.5)"
      ],
      "execution_count": 30,
      "outputs": [
        {
          "output_type": "execute_result",
          "data": {
            "text/plain": [
              "(13.5, -0.5)"
            ]
          },
          "metadata": {
            "tags": []
          },
          "execution_count": 30
        },
        {
          "output_type": "display_data",
          "data": {
            "image/png": "[encoded data removed]",
            "text/plain": [
              "<Figure size 648x648 with 2 Axes>"
            ]
          },
          "metadata": {
            "tags": [],
            "needs_background": "light"
          }
        }
      ]
    },
    {
      "cell_type": "code",
      "metadata": {
        "id": "14Kz7Vawicd2",
        "colab_type": "code",
        "colab": {
          "base_uri": "https://localhost:8080/",
          "height": 34
        },
        "outputId": "3c84499b-9645-4085-d695-8f48306a5dc9"
      },
      "source": [
        "hig_corr=train.corr()\n",
        "hig_corr_features=hig_corr.index[abs(hig_corr['buying price']) >=0.5]\n",
        "hig_corr_features"
      ],
      "execution_count": 35,
      "outputs": [
        {
          "output_type": "execute_result",
          "data": {
            "text/plain": [
              "Index(['on road old', 'on road now', 'buying price'], dtype='object')"
            ]
          },
          "metadata": {
            "tags": []
          },
          "execution_count": 35
        }
      ]
    },
    {
      "cell_type": "code",
      "metadata": {
        "id": "ULi0BwjkmGzT",
        "colab_type": "code",
        "colab": {
          "base_uri": "https://localhost:8080/",
          "height": 413
        },
        "outputId": "a3768c63-8c9b-407c-97b3-194abe24758a"
      },
      "source": [
        "plt.figure(figsize=(25,25))\n",
        "for i in range(len(high_corr_features)):\n",
        "  if i<=9:\n",
        "    plt.subplot(3,4,i+1)\n",
        "    plt.subplots_adjust(hspace=0.5,wspace=0.5)\n",
        "    sns.regplot(data=train,x=high_corr_features[i],y='buying price')"
      ],
      "execution_count": 43,
      "outputs": [
        {
          "output_type": "display_data",
          "data": {
            "image/png": "[encoded data removed]",
            "text/plain": [
              "<Figure size 1800x1800 with 3 Axes>"
            ]
          },
          "metadata": {
            "tags": [],
            "needs_background": "light"
          }
        }
      ]
    },
    {
      "cell_type": "code",
      "metadata": {
        "id": "O4NPHmSlnJcd",
        "colab_type": "code",
        "colab": {
          "base_uri": "https://localhost:8080/",
          "height": 34
        },
        "outputId": "85a7e527-770e-4431-b7c4-c9f5926e3a87"
      },
      "source": [
        "missing_col=df.columns[df.isnull().any()]\n",
        "missing_col"
      ],
      "execution_count": 44,
      "outputs": [
        {
          "output_type": "execute_result",
          "data": {
            "text/plain": [
              "Index([], dtype='object')"
            ]
          },
          "metadata": {
            "tags": []
          },
          "execution_count": 44
        }
      ]
    },
    {
      "cell_type": "code",
      "metadata": {
        "id": "Dw39MXRWpjcX",
        "colab_type": "code",
        "colab": {}
      },
      "source": [
        "import numpy as np\n",
        "Buying_price=train['buying price']"
      ],
      "execution_count": 57,
      "outputs": []
    },
    {
      "cell_type": "code",
      "metadata": {
        "id": "SdFm9Zwyp_x3",
        "colab_type": "code",
        "colab": {
          "base_uri": "https://localhost:8080/",
          "height": 34
        },
        "outputId": "2d11c2d3-0bab-474c-bd37-492b8a9cf82b"
      },
      "source": [
        "obj_feat=list(df.loc[:,df.dtypes=='object'].columns.values)\n",
        "len(obj_feat)"
      ],
      "execution_count": 48,
      "outputs": [
        {
          "output_type": "execute_result",
          "data": {
            "text/plain": [
              "0"
            ]
          },
          "metadata": {
            "tags": []
          },
          "execution_count": 48
        }
      ]
    },
    {
      "cell_type": "code",
      "metadata": {
        "id": "cPzP_RlHqoHw",
        "colab_type": "code",
        "colab": {
          "base_uri": "https://localhost:8080/",
          "height": 34
        },
        "outputId": "0c150eb9-3e0a-452b-8597-b1d978e59b05"
      },
      "source": [
        "df.shape"
      ],
      "execution_count": 49,
      "outputs": [
        {
          "output_type": "execute_result",
          "data": {
            "text/plain": [
              "(2509, 10)"
            ]
          },
          "metadata": {
            "tags": []
          },
          "execution_count": 49
        }
      ]
    },
    {
      "cell_type": "code",
      "metadata": {
        "id": "w4sK8jmwrB43",
        "colab_type": "code",
        "colab": {}
      },
      "source": [
        "train_len=len(train)"
      ],
      "execution_count": 65,
      "outputs": []
    },
    {
      "cell_type": "code",
      "metadata": {
        "id": "6iWYVD5srGZo",
        "colab_type": "code",
        "colab": {
          "base_uri": "https://localhost:8080/",
          "height": 68
        },
        "outputId": "3193100c-00b0-4287-cb58-f37c6bb1d74a"
      },
      "source": [
        "X_train=df[:train_len]\n",
        "X_test=df[train_len:]\n",
        "y_train=Buying_price\n",
        "print(X_train.shape)\n",
        "print(X_test.shape)\n",
        "print(y_train.shape)"
      ],
      "execution_count": 66,
      "outputs": [
        {
          "output_type": "stream",
          "text": [
            "(2000, 10)\n",
            "(509, 10)\n",
            "(2000,)\n"
          ],
          "name": "stdout"
        }
      ]
    },
    {
      "cell_type": "code",
      "metadata": {
        "id": "WCKYcs2JAbak",
        "colab_type": "code",
        "colab": {}
      },
      "source": [
        "from sklearn.model_selection import KFold,cross_val_score\n",
        "from sklearn.metrics import make_scorer,r2_score\n",
        "def test_model(model,X_train=X_train,y_train=y_train):\n",
        "  cv=KFold(n_splits=3,shuffle=True,random_state=45)\n",
        "  r2=make_scorer(r2_score)\n",
        "  r2_val_score=cross_val_score(model,X_train,y_train,cv=cv,scoring=r2)\n",
        "  score=[r2_val_score.mean()]\n",
        "  return score"
      ],
      "execution_count": 96,
      "outputs": []
    },
    {
      "cell_type": "code",
      "metadata": {
        "id": "DvF140tstASs",
        "colab_type": "code",
        "colab": {}
      },
      "source": [
        "import sklearn.linear_model as linear_model\n",
        "LR=linear_model.LinearRegression()\n",
        "LR.fit(X_train,y_train)\n",
        "np.set_printoptions(formatter={'float_kind':'{:f}'.format})\n",
        "y_pred=LR.predict(X_test).astype(int)"
      ],
      "execution_count": 84,
      "outputs": []
    },
    {
      "cell_type": "code",
      "metadata": {
        "id": "o82r2GhBMIpU",
        "colab_type": "code",
        "colab": {
          "base_uri": "https://localhost:8080/",
          "height": 34
        },
        "outputId": "1c2d56d7-b6c5-45f6-b495-ebff904ab3bb"
      },
      "source": [
        "test_model(LR)"
      ],
      "execution_count": 97,
      "outputs": [
        {
          "output_type": "execute_result",
          "data": {
            "text/plain": [
              "[0.9956852622456099]"
            ]
          },
          "metadata": {
            "tags": []
          },
          "execution_count": 97
        }
      ]
    },
    {
      "cell_type": "code",
      "metadata": {
        "id": "aiyYqCm1uYA1",
        "colab_type": "code",
        "colab": {
          "base_uri": "https://localhost:8080/",
          "height": 1000
        },
        "outputId": "93ccbfe5-af7b-4c8b-8bd8-6b8928b9b0b6"
      },
      "source": [
        "y_pred.astype(int)"
      ],
      "execution_count": 85,
      "outputs": [
        {
          "output_type": "execute_result",
          "data": {
            "text/plain": [
              "array([ 681901,   83638,  758963, 1035234,  192455,  229857,  684864,\n",
              "        840223,  596934,  402905,  132066,  843308,  773448,  771293,\n",
              "        863245,  890812,  687022,  109958,  674626,  136703,  300546,\n",
              "        580372,  391329,  816279,  126821,  297894,  786623,  817073,\n",
              "        142585,   75577,  326626,  416104,  182072,  537233,  873193,\n",
              "        646015,  300441,  289784,  481059,  356739,  712422,  472689,\n",
              "        531407,  271226,  697520,  869433,  846831,  375378,  506282,\n",
              "        395470,  265528,  972582,  157503,  207672,  107580,  311045,\n",
              "        127988,  366946,  594078,   73402,  438233,  613327,  454374,\n",
              "        861142,  502784,  193131,  855928,  621476,  545367,  119844,\n",
              "        364048,  601597,  838349,  503179,  298627,  693385,  398168,\n",
              "        832972,  594990,   57123,  766065,  667877,  713305,  735523,\n",
              "        800682,  923997,  695996,  298083,  305983,  151871,  175488,\n",
              "        945563, 1011784,  358996,  410545,  679824,  901512,  928479,\n",
              "        930762,  399621,  743944,  255652,  112959,  109732,  180696,\n",
              "         64455,  308335,  692015,  676367,  913983,  834224,  291565,\n",
              "        762944,  690198,  740752,  349414,  227101,  566158,   75195,\n",
              "        253468,  307809,  671004,  421544,  981921,  382977,  272120,\n",
              "        737358,  917220,  321667,  213118,  377392,  974707,  507292,\n",
              "        345519,  603075,  487768,  679057,  977852,  409081,  878923,\n",
              "        671210,  132320,  796658,  890721,  799007,  560573,  191214,\n",
              "        307986,  541998,  536141,  700182,  885072,  796770,  187360,\n",
              "        166534,  389908,  810401,   86127,  769413,  736905,  537214,\n",
              "        980168,  591908,  841904,  465755,  205369,  811734,  282611,\n",
              "        635317,  354513,  673290,  249524,  600827,  857796,  688318,\n",
              "        160386,  183961,  568873, 1014173,  259316,  521757,  906759,\n",
              "        923194, 1044921,  978556,  683766,  356699,  861909,  743074,\n",
              "        826351,  122346, 1001202,  667860,  590665,  709409,  222874,\n",
              "        440470,  755414,  131953,   -1757,  592176,  452661,  419874,\n",
              "        292617,  464206,  401871,  595810,  418042,  727167,  197528,\n",
              "        891184,  349859,  924457,  902770,  149328,  788514,  803278,\n",
              "        120500,   47765,  600956,  619374,  482114,  115693, 1021488,\n",
              "        443093,  512774,  342528,  274311,  522692,  653960,  287885,\n",
              "         83547,  991521,  516882,  192483,  630743,  773850,  675721,\n",
              "        542503,  344688,  150589,  988005,   65542,  336361,  535751,\n",
              "        745706,  542822,  297336,    -284,  327333,  135426,  299222,\n",
              "        893562,  466846,  275606,  198902,  229690,  977976,  354120,\n",
              "        276327,  342653,  390663,  186339,  456926,  762480,  413377,\n",
              "        673843, 1038246,  776554,  355790,  192505,  314689,  828349,\n",
              "        457599,  605490,  445031,  421264,  675629, 1007810,  890720,\n",
              "        288050,  573685,  569624,  769512,  520557,  394453,  608755,\n",
              "        892472,  112969,  270386,  647749,  975710,  826495,  247149,\n",
              "        678387,  217781,  449112,  935470,  157493,  594831,  651607,\n",
              "         86985,  762302,  906547,   89716,  763443,  535350,  915266,\n",
              "        692438,  394817,  442059,  827305,  216983,   49149,  539469,\n",
              "        854724,  362601,  219643,   90603,   49666,  470600,  350103,\n",
              "        259606,  310512,  236267,  516815,  211472,  694353,  945065,\n",
              "        664183,  743100,  416102,  374475,  108627,  880422,  573364,\n",
              "        160503,   25124,  848745,  300029,  533656,  182621,  279919,\n",
              "        566170,  706434,  692314,   92255,  295443,  812919,  248641,\n",
              "        540202,  437359,  704898,  487443,  239100,  238273,   81697,\n",
              "        171521,  782019,  298894,  208312, 1011290,  972085,  162652,\n",
              "        886636,  316526,  605541,  738645,  574945,  810463,  550667,\n",
              "        640031,  169114,  664212,  594058,  663385,  529740,  864287,\n",
              "        128853,  814401,  514383,  573544,  427038,  729382,  398842,\n",
              "        631009,  423403,  718368,  602004,  879346,  992650,  431511,\n",
              "        771133,  244528,  227811,  399648,  199942,  438710,  573170,\n",
              "        278985,  242282,  601684,  875002,  441241,  285338,  247614,\n",
              "        267806,  544880,  479931,  614717,  153898,  609818,  772570,\n",
              "        856744,  492609,  636589,  806403,  753321,  254233,  705571,\n",
              "        701081,  750210,  284348,  631428,  812450,  406075,  297811,\n",
              "        602984, 1020745,  548836,  964163,  540232,  707465,  640182,\n",
              "        839632,  924093,  755686,  831958,  239799,  534920,  341205,\n",
              "        284368,  683258,   53478,  276280,  115800,  785090,  554244,\n",
              "        465017,  738715,  796722,  907930,  409252,  765379,  183245,\n",
              "        175025,  284511,  803579, 1003097,  133982,  552923, 1012479,\n",
              "        277340,  760415,  343429,  436347,  439198,  342499,  832168,\n",
              "        289444,  517111,  284346,  590431,  455944,  445653,  210215,\n",
              "        587358,  667332,    9839,  635042,  324764,  246714,  759326,\n",
              "        340228,  236506,  155360,  262097,  257085,  239037,  333101,\n",
              "        265301,  605826,  471564,  849203,  364622,  469450,  751540,\n",
              "        599813,  956771,  669234,   25580,  281643,  335530,  241420,\n",
              "        343209, 1026639,  755851,  469297,  605704])"
            ]
          },
          "metadata": {
            "tags": []
          },
          "execution_count": 85
        }
      ]
    },
    {
      "cell_type": "code",
      "metadata": {
        "id": "q5GzIoL9zueY",
        "colab_type": "code",
        "colab": {}
      },
      "source": [
        "submit_test1=pd.concat([test['v.id'],pd.DataFrame(y_pred)],axis=1)\n",
        "submit_test1.columns=['v.id','buying_price']"
      ],
      "execution_count": 86,
      "outputs": []
    },
    {
      "cell_type": "code",
      "metadata": {
        "id": "4NW3dUyJ0vMi",
        "colab_type": "code",
        "colab": {
          "base_uri": "https://localhost:8080/",
          "height": 419
        },
        "outputId": "8cdd2bbd-d6c5-4dce-f9e4-812d78a5513f"
      },
      "source": [
        "submit_test1"
      ],
      "execution_count": 87,
      "outputs": [
        {
          "output_type": "execute_result",
          "data": {
            "text/html": [
              "<div>\n",
              "<style scoped>\n",
              "    .dataframe tbody tr th:only-of-type {\n",
              "        vertical-align: middle;\n",
              "    }\n",
              "\n",
              "    .dataframe tbody tr th {\n",
              "        vertical-align: top;\n",
              "    }\n",
              "\n",
              "    .dataframe thead th {\n",
              "        text-align: right;\n",
              "    }\n",
              "</style>\n",
              "<table border=\"1\" class=\"dataframe\">\n",
              "  <thead>\n",
              "    <tr style=\"text-align: right;\">\n",
              "      <th></th>\n",
              "      <th>v.id</th>\n",
              "      <th>buying_price</th>\n",
              "    </tr>\n",
              "  </thead>\n",
              "  <tbody>\n",
              "    <tr>\n",
              "      <th>0</th>\n",
              "      <td>1</td>\n",
              "      <td>681901</td>\n",
              "    </tr>\n",
              "    <tr>\n",
              "      <th>1</th>\n",
              "      <td>2</td>\n",
              "      <td>83638</td>\n",
              "    </tr>\n",
              "    <tr>\n",
              "      <th>2</th>\n",
              "      <td>3</td>\n",
              "      <td>758963</td>\n",
              "    </tr>\n",
              "    <tr>\n",
              "      <th>3</th>\n",
              "      <td>4</td>\n",
              "      <td>1035234</td>\n",
              "    </tr>\n",
              "    <tr>\n",
              "      <th>4</th>\n",
              "      <td>5</td>\n",
              "      <td>192455</td>\n",
              "    </tr>\n",
              "    <tr>\n",
              "      <th>...</th>\n",
              "      <td>...</td>\n",
              "      <td>...</td>\n",
              "    </tr>\n",
              "    <tr>\n",
              "      <th>504</th>\n",
              "      <td>505</td>\n",
              "      <td>343209</td>\n",
              "    </tr>\n",
              "    <tr>\n",
              "      <th>505</th>\n",
              "      <td>506</td>\n",
              "      <td>1026639</td>\n",
              "    </tr>\n",
              "    <tr>\n",
              "      <th>506</th>\n",
              "      <td>507</td>\n",
              "      <td>755851</td>\n",
              "    </tr>\n",
              "    <tr>\n",
              "      <th>507</th>\n",
              "      <td>508</td>\n",
              "      <td>469297</td>\n",
              "    </tr>\n",
              "    <tr>\n",
              "      <th>508</th>\n",
              "      <td>509</td>\n",
              "      <td>605704</td>\n",
              "    </tr>\n",
              "  </tbody>\n",
              "</table>\n",
              "<p>509 rows × 2 columns</p>\n",
              "</div>"
            ],
            "text/plain": [
              "     v.id  buying_price\n",
              "0       1        681901\n",
              "1       2         83638\n",
              "2       3        758963\n",
              "3       4       1035234\n",
              "4       5        192455\n",
              "..    ...           ...\n",
              "504   505        343209\n",
              "505   506       1026639\n",
              "506   507        755851\n",
              "507   508        469297\n",
              "508   509        605704\n",
              "\n",
              "[509 rows x 2 columns]"
            ]
          },
          "metadata": {
            "tags": []
          },
          "execution_count": 87
        }
      ]
    },
    {
      "cell_type": "code",
      "metadata": {
        "id": "IwOqYIf607Eu",
        "colab_type": "code",
        "colab": {}
      },
      "source": [
        "submit_test1.to_csv('sample_submission.csv',index=False)\n"
      ],
      "execution_count": 99,
      "outputs": []
    },
    {
      "cell_type": "code",
      "metadata": {
        "id": "Df0q-kD-O_4z",
        "colab_type": "code",
        "colab": {
          "base_uri": "https://localhost:8080/",
          "height": 630
        },
        "outputId": "cf2752fc-5368-438f-c674-15051ee0a88f"
      },
      "source": [
        "f=open('sample_submission.csv','r')\n",
        "f.read()"
      ],
      "execution_count": 100,
      "outputs": [
        {
          "output_type": "execute_result",
          "data": {
            "application/vnd.google.colaboratory.intrinsic+json": {
              "type": "string"
            },
            "text/plain": [
              "'v.id,buying_price\\n1,681901\\n2,83638\\n3,758963\\n4,1035234\\n5,192455\\n6,229857\\n7,684864\\n8,840223\\n9,596934\\n10,402905\\n11,132066\\n12,843308\\n13,773448\\n14,771293\\n15,863245\\n16,890812\\n17,687022\\n18,109958\\n19,674626\\n20,136703\\n21,300546\\n22,580372\\n23,391329\\n24,816279\\n25,126821\\n26,297894\\n27,786623\\n28,817073\\n29,142585\\n30,75577\\n31,326626\\n32,416104\\n33,182072\\n34,537233\\n35,873193\\n36,646015\\n37,300441\\n38,289784\\n39,481059\\n40,356739\\n41,712422\\n42,472689\\n43,531407\\n44,271226\\n45,697520\\n46,869433\\n47,846831\\n48,375378\\n49,506282\\n50,395470\\n51,265528\\n52,972582\\n53,157503\\n54,207672\\n55,107580\\n56,311045\\n57,127988\\n58,366946\\n59,594078\\n60,73402\\n61,438233\\n62,613327\\n63,454374\\n64,861142\\n65,502784\\n66,193131\\n67,855928\\n68,621476\\n69,545367\\n70,119844\\n71,364048\\n72,601597\\n73,838349\\n74,503179\\n75,298627\\n76,693385\\n77,398168\\n78,832972\\n79,594990\\n80,57123\\n81,766065\\n82,667877\\n83,713305\\n84,735523\\n85,800682\\n86,923997\\n87,695996\\n88,298083\\n89,305983\\n90,151871\\n91,175488\\n92,945563\\n93,1011784\\n94,358996\\n95,410545\\n96,679824\\n97,901512\\n98,928479\\n99,930762\\n100,399621\\n101,743944\\n102,255652\\n103,112959\\n104,109732\\n105,180696\\n106,64455\\n107,308335\\n108,692015\\n109,676367\\n110,913983\\n111,834224\\n112,291565\\n113,762944\\n114,690198\\n115,740752\\n116,349414\\n117,227101\\n118,566158\\n119,75195\\n120,253468\\n121,307809\\n122,671004\\n123,421544\\n124,981921\\n125,382977\\n126,272120\\n127,737358\\n128,917220\\n129,321667\\n130,213118\\n131,377392\\n132,974707\\n133,507292\\n134,345519\\n135,603075\\n136,487768\\n137,679057\\n138,977852\\n139,409081\\n140,878923\\n141,671210\\n142,132320\\n143,796658\\n144,890721\\n145,799007\\n146,560573\\n147,191214\\n148,307986\\n149,541998\\n150,536141\\n151,700182\\n152,885072\\n153,796770\\n154,187360\\n155,166534\\n156,389908\\n157,810401\\n158,86127\\n159,769413\\n160,736905\\n161,537214\\n162,980168\\n163,591908\\n164,841904\\n165,465755\\n166,205369\\n167,811734\\n168,282611\\n169,635317\\n170,354513\\n171,673290\\n172,249524\\n173,600827\\n174,857796\\n175,688318\\n176,160386\\n177,183961\\n178,568873\\n179,1014173\\n180,259316\\n181,521757\\n182,906759\\n183,923194\\n184,1044921\\n185,978556\\n186,683766\\n187,356699\\n188,861909\\n189,743074\\n190,826351\\n191,122346\\n192,1001202\\n193,667860\\n194,590665\\n195,709409\\n196,222874\\n197,440470\\n198,755414\\n199,131953\\n200,-1757\\n201,592176\\n202,452661\\n203,419874\\n204,292617\\n205,464206\\n206,401871\\n207,595810\\n208,418042\\n209,727167\\n210,197528\\n211,891184\\n212,349859\\n213,924457\\n214,902770\\n215,149328\\n216,788514\\n217,803278\\n218,120500\\n219,47765\\n220,600956\\n221,619374\\n222,482114\\n223,115693\\n224,1021488\\n225,443093\\n226,512774\\n227,342528\\n228,274311\\n229,522692\\n230,653960\\n231,287885\\n232,83547\\n233,991521\\n234,516882\\n235,192483\\n236,630743\\n237,773850\\n238,675721\\n239,542503\\n240,344688\\n241,150589\\n242,988005\\n243,65542\\n244,336361\\n245,535751\\n246,745706\\n247,542822\\n248,297336\\n249,-284\\n250,327333\\n251,135426\\n252,299222\\n253,893562\\n254,466846\\n255,275606\\n256,198902\\n257,229690\\n258,977976\\n259,354120\\n260,276327\\n261,342653\\n262,390663\\n263,186339\\n264,456926\\n265,762480\\n266,413377\\n267,673843\\n268,1038246\\n269,776554\\n270,355790\\n271,192505\\n272,314689\\n273,828349\\n274,457599\\n275,605490\\n276,445031\\n277,421264\\n278,675629\\n279,1007810\\n280,890720\\n281,288050\\n282,573685\\n283,569624\\n284,769512\\n285,520557\\n286,394453\\n287,608755\\n288,892472\\n289,112969\\n290,270386\\n291,647749\\n292,975710\\n293,826495\\n294,247149\\n295,678387\\n296,217781\\n297,449112\\n298,935470\\n299,157493\\n300,594831\\n301,651607\\n302,86985\\n303,762302\\n304,906547\\n305,89716\\n306,763443\\n307,535350\\n308,915266\\n309,692438\\n310,394817\\n311,442059\\n312,827305\\n313,216983\\n314,49149\\n315,539469\\n316,854724\\n317,362601\\n318,219643\\n319,90603\\n320,49666\\n321,470600\\n322,350103\\n323,259606\\n324,310512\\n325,236267\\n326,516815\\n327,211472\\n328,694353\\n329,945065\\n330,664183\\n331,743100\\n332,416102\\n333,374475\\n334,108627\\n335,880422\\n336,573364\\n337,160503\\n338,25124\\n339,848745\\n340,300029\\n341,533656\\n342,182621\\n343,279919\\n344,566170\\n345,706434\\n346,692314\\n347,92255\\n348,295443\\n349,812919\\n350,248641\\n351,540202\\n352,437359\\n353,704898\\n354,487443\\n355,239100\\n356,238273\\n357,81697\\n358,171521\\n359,782019\\n360,298894\\n361,208312\\n362,1011290\\n363,972085\\n364,162652\\n365,886636\\n366,316526\\n367,605541\\n368,738645\\n369,574945\\n370,810463\\n371,550667\\n372,640031\\n373,169114\\n374,664212\\n375,594058\\n376,663385\\n377,529740\\n378,864287\\n379,128853\\n380,814401\\n381,514383\\n382,573544\\n383,427038\\n384,729382\\n385,398842\\n386,631009\\n387,423403\\n388,718368\\n389,602004\\n390,879346\\n391,992650\\n392,431511\\n393,771133\\n394,244528\\n395,227811\\n396,399648\\n397,199942\\n398,438710\\n399,573170\\n400,278985\\n401,242282\\n402,601684\\n403,875002\\n404,441241\\n405,285338\\n406,247614\\n407,267806\\n408,544880\\n409,479931\\n410,614717\\n411,153898\\n412,609818\\n413,772570\\n414,856744\\n415,492609\\n416,636589\\n417,806403\\n418,753321\\n419,254233\\n420,705571\\n421,701081\\n422,750210\\n423,284348\\n424,631428\\n425,812450\\n426,406075\\n427,297811\\n428,602984\\n429,1020745\\n430,548836\\n431,964163\\n432,540232\\n433,707465\\n434,640182\\n435,839632\\n436,924093\\n437,755686\\n438,831958\\n439,239799\\n440,534920\\n441,341205\\n442,284368\\n443,683258\\n444,53478\\n445,276280\\n446,115800\\n447,785090\\n448,554244\\n449,465017\\n450,738715\\n451,796722\\n452,907930\\n453,409252\\n454,765379\\n455,183245\\n456,175025\\n457,284511\\n458,803579\\n459,1003097\\n460,133982\\n461,552923\\n462,1012479\\n463,277340\\n464,760415\\n465,343429\\n466,436347\\n467,439198\\n468,342499\\n469,832168\\n470,289444\\n471,517111\\n472,284346\\n473,590431\\n474,455944\\n475,445653\\n476,210215\\n477,587358\\n478,667332\\n479,9839\\n480,635042\\n481,324764\\n482,246714\\n483,759326\\n484,340228\\n485,236506\\n486,155360\\n487,262097\\n488,257085\\n489,239037\\n490,333101\\n491,265301\\n492,605826\\n493,471564\\n494,849203\\n495,364622\\n496,469450\\n497,751540\\n498,599813\\n499,956771\\n500,669234\\n501,25580\\n502,281643\\n503,335530\\n504,241420\\n505,343209\\n506,1026639\\n507,755851\\n508,469297\\n509,605704\\n'"
            ]
          },
          "metadata": {
            "tags": []
          },
          "execution_count": 100
        }
      ]
    }
  ]
}